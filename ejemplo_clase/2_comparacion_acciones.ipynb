{
  "nbformat": 4,
  "nbformat_minor": 5,
  "metadata": {
    "kernelspec": {
      "display_name": "Python 3",
      "language": "python",
      "name": "python3"
    },
    "language_info": {
      "codemirror_mode": {
        "name": "ipython",
        "version": 3
      },
      "file_extension": ".py",
      "mimetype": "text/x-python",
      "name": "python",
      "nbconvert_exporter": "python",
      "pygments_lexer": "ipython3",
      "version": "3.9.2"
    },
    "colab": {
      "name": "2_comparacion_acciones.ipynb",
      "provenance": [],
      "collapsed_sections": []
    }
  },
  "cells": [
    {
      "cell_type": "markdown",
      "metadata": {
        "id": "z1pdJrHjFVIA"
      },
      "source": [
        "<a href=\"https://www.inove.com.ar\"><img src=\"https://raw.githubusercontent.com/InoveAlumnos/dataset_analytics_python/master/images/PA%20Banner.png\" width=\"1000\" align=\"center\"></a>\n",
        "\n",
        "\n",
        "# Ingeniería de feature\n",
        "\n",
        "Programa creado para mostrar ejemplos prácticos de los visto durante la clase<br>\n",
        "v1.1"
      ],
      "id": "z1pdJrHjFVIA"
    },
    {
      "cell_type": "code",
      "metadata": {
        "id": "e2d4b068-7434-48de-ba67-001e77a2e814"
      },
      "source": [
        "import os\n",
        "import platform\n",
        "\n",
        "import numpy as np\n",
        "import pandas as pd\n",
        "\n",
        "import matplotlib.pyplot as plt"
      ],
      "id": "e2d4b068-7434-48de-ba67-001e77a2e814",
      "execution_count": null,
      "outputs": []
    },
    {
      "cell_type": "markdown",
      "metadata": {
        "id": "26aY4oxAF35n"
      },
      "source": [
        "# Recolectar datos\n",
        "<img src=\"https://raw.githubusercontent.com/InoveAlumnos/dataset_analytics_python/master/images/Pipeline1.png\" width=\"1000\" align=\"middle\">"
      ],
      "id": "26aY4oxAF35n"
    },
    {
      "cell_type": "code",
      "metadata": {
        "id": "CojvM4lDF8Hq"
      },
      "source": [
        "if os.access('AAPL.csv', os.F_OK) is False:\n",
        "    if platform.system() == 'Windows':\n",
        "        !curl https://raw.githubusercontent.com/InoveAlumnos/dataset_analytics_python/master/stock/AAPL.csv > AAPL.csv\n",
        "    else:\n",
        "        !wget AAPL.csv https://raw.githubusercontent.com/InoveAlumnos/dataset_analytics_python/master/stock/AAPL.csv\n",
        "\n",
        "if os.access('MSFT.csv', os.F_OK) is False:\n",
        "    if platform.system() == 'Windows':\n",
        "        !curl https://raw.githubusercontent.com/InoveAlumnos/dataset_analytics_python/master/stock/MSFT.csv > MSFT.csv\n",
        "    else:\n",
        "        !wget MSFT.csv https://raw.githubusercontent.com/InoveAlumnos/dataset_analytics_python/master/stock/MSFT.csv"
      ],
      "id": "CojvM4lDF8Hq",
      "execution_count": null,
      "outputs": []
    },
    {
      "cell_type": "markdown",
      "metadata": {
        "id": "6UVvuSJQGnCk"
      },
      "source": [
        "# Procesar datos\n",
        "<img src=\"https://raw.githubusercontent.com/InoveAlumnos/dataset_analytics_python/master/images/Pipeline2.png\" width=\"1000\" align=\"middle\">"
      ],
      "id": "6UVvuSJQGnCk"
    },
    {
      "cell_type": "code",
      "metadata": {
        "id": "f2852e74-0a7e-4a09-a223-33287a98a30d"
      },
      "source": [
        "# Valores de las acciones de APPLE y Microsoft de los últimos 6 meses (2020-2021)\n",
        "\n",
        "apple = np.asanyarray([float(value.replace(',', '.')) for value in reversed(pd.read_csv(\"AAPL.csv\")['Último'].values)])\n",
        "microsoft = np.asanyarray([float(value.replace(',', '.')) for value in reversed(pd.read_csv(\"MSFT.csv\")['Último'].values)])"
      ],
      "id": "f2852e74-0a7e-4a09-a223-33287a98a30d",
      "execution_count": null,
      "outputs": []
    },
    {
      "cell_type": "markdown",
      "metadata": {
        "id": "ONifzvBuGqq1"
      },
      "source": [
        "# Explorar datos\n",
        "<img src=\"https://raw.githubusercontent.com/InoveAlumnos/dataset_analytics_python/master/images/Pipeline3.png\" width=\"1000\" align=\"middle\">"
      ],
      "id": "ONifzvBuGqq1"
    },
    {
      "cell_type": "code",
      "metadata": {
        "id": "e45342ea-e5b4-43a5-b919-add42878e98b"
      },
      "source": [
        "plt.plot(apple)\n",
        "plt.title(\"Apple\")\n",
        "plt.show()"
      ],
      "id": "e45342ea-e5b4-43a5-b919-add42878e98b",
      "execution_count": null,
      "outputs": []
    },
    {
      "cell_type": "code",
      "metadata": {
        "id": "9dd56198-a80d-4e2b-914c-dddf584c9049"
      },
      "source": [
        "plt.plot(microsoft)\n",
        "plt.title(\"Microsoft\")\n",
        "plt.show()"
      ],
      "id": "9dd56198-a80d-4e2b-914c-dddf584c9049",
      "execution_count": null,
      "outputs": []
    },
    {
      "cell_type": "code",
      "metadata": {
        "id": "Qi6JszxTE8tr"
      },
      "source": [
        "fig = plt.figure()\n",
        "plt.title(\"Apple vs Microsoft\")\n",
        "ax = fig.add_subplot()\n",
        "ax.plot(apple, label=\"Apple\")\n",
        "ax.plot(microsoft, label=\"Microsoft\")\n",
        "ax.legend()\n",
        "plt.show()"
      ],
      "id": "Qi6JszxTE8tr",
      "execution_count": null,
      "outputs": []
    },
    {
      "cell_type": "markdown",
      "metadata": {
        "id": "QVzNT_BAFAAU"
      },
      "source": [
        "¿Uno podría pensar que la acción a comprar debería ser la de Microsoft, cierto?\\\n",
        "Veremos a continuación en análisis de los datos de cada una."
      ],
      "id": "QVzNT_BAFAAU"
    },
    {
      "cell_type": "markdown",
      "metadata": {
        "id": "61ccc801-57e9-4e8e-b744-0b372433455d"
      },
      "source": [
        "### Obtener la media y el desvio de cada set de datos"
      ],
      "id": "61ccc801-57e9-4e8e-b744-0b372433455d"
    },
    {
      "cell_type": "code",
      "metadata": {
        "id": "69f3268b-b558-496c-80f0-406f6b9076eb"
      },
      "source": [
        "def size_mean_std(data):\n",
        "    size = len(data)\n",
        "    \n",
        "    mean = np.mean(data)\n",
        "    std = np.std(data)\n",
        "    \n",
        "    return size, mean, std"
      ],
      "id": "69f3268b-b558-496c-80f0-406f6b9076eb",
      "execution_count": null,
      "outputs": []
    },
    {
      "cell_type": "code",
      "metadata": {
        "id": "4a782dcd-67af-4a41-bfd3-af492fbdd9bc"
      },
      "source": [
        "n1, x1, std1 = size_mean_std(apple)\n",
        "print(\"Apple\")\n",
        "print(f\"size: {n1}, mean: {x1}, std: {std1}\")"
      ],
      "id": "4a782dcd-67af-4a41-bfd3-af492fbdd9bc",
      "execution_count": null,
      "outputs": []
    },
    {
      "cell_type": "code",
      "metadata": {
        "id": "ed1b9531-fe6f-4321-bb2f-f55862f12a9a"
      },
      "source": [
        "n2, x2, std2 = size_mean_std(microsoft)\n",
        "print(\"Microsoft\")\n",
        "print(f\"size: {n2}, mean: {x2}, std: {std2}\")"
      ],
      "id": "ed1b9531-fe6f-4321-bb2f-f55862f12a9a",
      "execution_count": null,
      "outputs": []
    },
    {
      "cell_type": "markdown",
      "metadata": {
        "id": "92868147-f919-49cc-a6b2-2a7a5b3b2975"
      },
      "source": [
        "### Normalizar los datos con Standar Scaler"
      ],
      "id": "92868147-f919-49cc-a6b2-2a7a5b3b2975"
    },
    {
      "cell_type": "code",
      "metadata": {
        "id": "IhvUGL5JDNof"
      },
      "source": [
        "from sklearn.preprocessing import StandardScaler\n",
        "scaler_apple = StandardScaler()\n",
        "scaler_microsoft = StandardScaler()\n",
        "apple_norm = scaler_apple.fit_transform(apple.reshape(-1, 1))\n",
        "microsoft_norm = scaler_microsoft.fit_transform(microsoft.reshape(-1, 1))"
      ],
      "id": "IhvUGL5JDNof",
      "execution_count": null,
      "outputs": []
    },
    {
      "cell_type": "code",
      "metadata": {
        "id": "yTqm5vJDDZ-n"
      },
      "source": [
        "plt.plot(apple_norm)\n",
        "plt.title(\"Apple norm\")\n",
        "plt.show()"
      ],
      "id": "yTqm5vJDDZ-n",
      "execution_count": null,
      "outputs": []
    },
    {
      "cell_type": "code",
      "metadata": {
        "id": "BmuVzwAcDezv"
      },
      "source": [
        "plt.plot(microsoft_norm)\n",
        "plt.title(\"Microsoft norm\")\n",
        "plt.show()"
      ],
      "id": "BmuVzwAcDezv",
      "execution_count": null,
      "outputs": []
    },
    {
      "cell_type": "code",
      "metadata": {
        "id": "qeGxJuWODiSV"
      },
      "source": [
        "fig = plt.figure()\n",
        "plt.title(\"Apple vs Microsoft\")\n",
        "ax = fig.add_subplot()\n",
        "ax.plot(apple_norm, label=\"Apple\")\n",
        "ax.plot(microsoft_norm, label=\"Microsoft\")\n",
        "ax.legend()\n",
        "plt.show()"
      ],
      "id": "qeGxJuWODiSV",
      "execution_count": null,
      "outputs": []
    },
    {
      "cell_type": "markdown",
      "metadata": {
        "id": "URXFAGECG_Eo"
      },
      "source": [
        "Ahora, ¿cuál acción elegirian? Complicado definirlo a simple vista, ¿cierto?"
      ],
      "id": "URXFAGECG_Eo"
    },
    {
      "cell_type": "markdown",
      "metadata": {
        "id": "TfgXyBc6D-Nt"
      },
      "source": [
        "### ¿Qué acción presentó una mejor evolución?"
      ],
      "id": "TfgXyBc6D-Nt"
    },
    {
      "cell_type": "code",
      "metadata": {
        "id": "QF2CEU6eEGPv"
      },
      "source": [
        "n3, x3, std3 = size_mean_std(apple_norm)\n",
        "print(\"Apple\")\n",
        "print(f\"size: {n3}, mean: {x3}, std: {std3}\")"
      ],
      "id": "QF2CEU6eEGPv",
      "execution_count": null,
      "outputs": []
    },
    {
      "cell_type": "code",
      "metadata": {
        "id": "NetJlRpzEarc"
      },
      "source": [
        "n4, x4, std4 = size_mean_std(microsoft_norm)\n",
        "print(\"Microsoft\")\n",
        "print(f\"size: {n4}, mean: {x4}, std: {std4}\")"
      ],
      "id": "NetJlRpzEarc",
      "execution_count": null,
      "outputs": []
    },
    {
      "cell_type": "code",
      "metadata": {
        "id": "C10SxvMiErMU"
      },
      "source": [
        "print(\"¿Qué acción debería haber comprado al comienzo del período?:\")\n",
        "print(\"Apple\" if x3 >= x4 else \"Microsoft\")"
      ],
      "id": "C10SxvMiErMU",
      "execution_count": null,
      "outputs": []
    }
  ]
}